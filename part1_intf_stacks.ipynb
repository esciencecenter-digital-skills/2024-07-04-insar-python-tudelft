{
 "cells": [
  {
   "cell_type": "code",
   "execution_count": null,
   "metadata": {},
   "outputs": [],
   "source": [
    "import numpy as np\n",
    "from pathlib import Path\n",
    "import sarxarray\n",
    "import dask"
   ]
  },
  {
   "attachments": {},
   "cell_type": "markdown",
   "metadata": {},
   "source": [
    "## Data loading"
   ]
  },
  {
   "cell_type": "code",
   "execution_count": null,
   "metadata": {},
   "outputs": [],
   "source": [
    "# Path to the interferogram dataset\n",
    "path = Path('./nl_amsterdam_s1_asc_t088')\n",
    "\n",
    "# Make a list of interferograms to read\n",
    "list_ifgs = [p for p in path.rglob('*_cint_srd.raw')]\n",
    "list_ifgs.sort()\n",
    "list_ifgs"
   ]
  },
  {
   "cell_type": "code",
   "execution_count": null,
   "metadata": {},
   "outputs": [],
   "source": [
    "# Metadata of the stack, assume known.\n",
    "shape=(2000, 4000)"
   ]
  },
  {
   "cell_type": "code",
   "execution_count": null,
   "metadata": {},
   "outputs": [],
   "source": [
    "# Define reading chunks\n",
    "reading_chunks = (1000,1000)"
   ]
  },
  {
   "cell_type": "code",
   "execution_count": null,
   "metadata": {},
   "outputs": [],
   "source": [
    "sarxarray.from_binary?"
   ]
  },
  {
   "cell_type": "code",
   "execution_count": null,
   "metadata": {},
   "outputs": [],
   "source": [
    "stack = sarxarray.from_binary(list_ifgs, shape, dtype=np.complex64, chunks=reading_chunks)\n",
    "stack"
   ]
  },
  {
   "cell_type": "code",
   "execution_count": null,
   "metadata": {},
   "outputs": [],
   "source": [
    "dask.visualize(stack['amplitude'])"
   ]
  },
  {
   "attachments": {},
   "cell_type": "markdown",
   "metadata": {},
   "source": [
    "## Update space and time coordinates"
   ]
  },
  {
   "cell_type": "code",
   "execution_count": null,
   "metadata": {},
   "outputs": [],
   "source": [
    "# Geo-coordinates\n",
    "f_lat = [path / 'lat.raw']\n",
    "f_lon = [path / 'lon.raw']"
   ]
  },
  {
   "cell_type": "code",
   "execution_count": null,
   "metadata": {},
   "outputs": [],
   "source": [
    "# Load coordinates\n",
    "lat = sarxarray.from_binary(\n",
    "    f_lat, shape, vlabel=\"lat\", dtype=np.float32, chunks=reading_chunks\n",
    ")\n",
    "lon = sarxarray.from_binary(\n",
    "    f_lon, shape, vlabel=\"lon\", dtype=np.float32, chunks=reading_chunks\n",
    ")\n",
    "stack = stack.assign_coords(\n",
    "    lat=((\"azimuth\", \"range\"), lat.squeeze().lat.data),\n",
    "    lon=((\"azimuth\", \"range\"), lon.squeeze().lon.data),\n",
    ")"
   ]
  },
  {
   "cell_type": "code",
   "execution_count": null,
   "metadata": {},
   "outputs": [],
   "source": [
    "stack"
   ]
  },
  {
   "cell_type": "code",
   "execution_count": null,
   "metadata": {},
   "outputs": [],
   "source": [
    "# Update the stack with the time coordinates\n",
    "time_coords = [np.datetime64(f\"{t.stem[0:4]}-{t.stem[4:6]}-{t.stem[6:8]}\") for t in list_ifgs]\n",
    "time_coords = np.array(time_coords, dtype='datetime64[ns]')\n",
    "time_coords\n"
   ]
  },
  {
   "cell_type": "code",
   "execution_count": null,
   "metadata": {},
   "outputs": [],
   "source": [
    "stack = stack.assign_coords(time=(\"time\", time_coords))\n",
    "stack"
   ]
  },
  {
   "cell_type": "markdown",
   "metadata": {},
   "source": [
    "## Multi-Looking"
   ]
  },
  {
   "cell_type": "code",
   "execution_count": null,
   "metadata": {},
   "outputs": [],
   "source": [
    "stack_multilook = stack.slcstack.multi_look((1,2))\n",
    "stack_multilook"
   ]
  },
  {
   "attachments": {},
   "cell_type": "markdown",
   "metadata": {},
   "source": [
    "## Mean-Reflection-Map (MRM) "
   ]
  },
  {
   "cell_type": "code",
   "execution_count": null,
   "metadata": {},
   "outputs": [],
   "source": [
    "mrm = stack_multilook.slcstack.mrm()\n",
    "mrm"
   ]
  },
  {
   "cell_type": "code",
   "execution_count": null,
   "metadata": {},
   "outputs": [],
   "source": [
    "dask.visualize(mrm)"
   ]
  },
  {
   "cell_type": "code",
   "execution_count": null,
   "metadata": {},
   "outputs": [],
   "source": [
    "# Visualize\n",
    "from matplotlib import pyplot as plt\n",
    "fig, ax = plt.subplots()\n",
    "fig.set_size_inches((5,5))\n",
    "im = mrm.plot(ax=ax, robust=True, cmap='gray')\n",
    "im.set_clim([0, 50000])"
   ]
  },
  {
   "cell_type": "markdown",
   "metadata": {},
   "source": [
    "## Subset in space and time"
   ]
  },
  {
   "cell_type": "code",
   "execution_count": null,
   "metadata": {},
   "outputs": [],
   "source": [
    "# Indexing\n",
    "stack_subset_space1 = stack_multilook.isel(azimuth=slice(1000, 2000), range=slice(1000, 2000))\n",
    "stack_subset_space1"
   ]
  },
  {
   "cell_type": "code",
   "execution_count": null,
   "metadata": {},
   "outputs": [],
   "source": [
    "print(stack_multilook['lat'].max().values)\n",
    "print(stack_multilook['lat'].min().values)\n",
    "print(stack_multilook['lon'].max().values)\n",
    "print(stack_multilook['lon'].min().values)"
   ]
  },
  {
   "cell_type": "code",
   "execution_count": null,
   "metadata": {},
   "outputs": [],
   "source": [
    "# Value based\n",
    "# stack_subset_space1 = stack.where((stack['lat'] > 52.4), drop=True) # This does not work becasue 2d\n",
    "stack_subset_space2 = stack_multilook.where((stack_multilook['lat'] > 52.3)).compute() # This works\n",
    "stack_subset_space2"
   ]
  },
  {
   "cell_type": "code",
   "execution_count": null,
   "metadata": {},
   "outputs": [],
   "source": [
    "mrm_subset = stack_subset_space2.slcstack.mrm()"
   ]
  },
  {
   "cell_type": "code",
   "execution_count": null,
   "metadata": {},
   "outputs": [],
   "source": [
    "mrm_subset"
   ]
  },
  {
   "cell_type": "code",
   "execution_count": null,
   "metadata": {},
   "outputs": [],
   "source": [
    "# Visualize\n",
    "from matplotlib import pyplot as plt\n",
    "fig, ax = plt.subplots()\n",
    "fig.set_size_inches((5,5))\n",
    "im = mrm_subset.plot(ax=ax, robust=True, cmap='gray')\n",
    "im.set_clim([0, 50000])"
   ]
  },
  {
   "cell_type": "code",
   "execution_count": null,
   "metadata": {},
   "outputs": [],
   "source": [
    "# Value based time subset\n",
    "stack_subset_time1 = stack.where((stack['time'] > np.datetime64(\"2018-10-14\")), drop=True) # This works because 1d\n",
    "stack_subset_time1"
   ]
  },
  {
   "cell_type": "markdown",
   "metadata": {},
   "source": [
    "## Exercise: temporal and spatial subset (10 mins)\n",
    "1. Select this region: lon [52.3, 52.4], lat [4.8, 5.0]\n",
    "2. Select all interferograms from after 2018-10-26\n",
    "3. Visualize the MRM of the selected stack"
   ]
  },
  {
   "cell_type": "code",
   "execution_count": null,
   "metadata": {},
   "outputs": [],
   "source": [
    "stack_subset1 = stack_multilook.where((stack_multilook['time'] > np.datetime64(\"2018-10-26\")), drop=True)\n",
    "stack_subset1 = stack_subset1.where((stack_subset1['lat'] > 52.3) & (stack_subset1['lat'] < 52.4) & (stack_subset1['lon'] > 4.8) & (stack_subset1['lon'] < 5.0))\n",
    "mrm_subset1 = stack_subset1.slcstack.mrm()\n",
    "\n",
    "# Visualize\n",
    "from matplotlib import pyplot as plt\n",
    "fig, ax = plt.subplots()\n",
    "fig.set_size_inches((5,5))\n",
    "im = mrm_subset1.plot(ax=ax, robust=True, cmap='gray')\n",
    "im.set_clim([0, 50000])"
   ]
  }
 ],
 "metadata": {
  "kernelspec": {
   "display_name": "mobyle",
   "language": "python",
   "name": "python3"
  },
  "language_info": {
   "codemirror_mode": {
    "name": "ipython",
    "version": 3
   },
   "file_extension": ".py",
   "mimetype": "text/x-python",
   "name": "python",
   "nbconvert_exporter": "python",
   "pygments_lexer": "ipython3",
   "version": "3.1.-1"
  },
  "orig_nbformat": 4,
  "vscode": {
   "interpreter": {
    "hash": "02835d5cd57458205e59899edb11fdcb9a0651fb5a52f81360dd4343685cd4f4"
   }
  }
 },
 "nbformat": 4,
 "nbformat_minor": 2
}
