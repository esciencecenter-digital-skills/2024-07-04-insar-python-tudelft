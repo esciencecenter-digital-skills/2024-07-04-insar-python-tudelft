{
 "cells": [
  {
   "cell_type": "code",
   "execution_count": null,
   "metadata": {},
   "outputs": [],
   "source": [
    "from pathlib import Path\n",
    "import xarray as xr\n",
    "import numpy as np\n",
    "import geopandas as gpd\n",
    "import stmtools\n",
    "import dask"
   ]
  },
  {
   "cell_type": "markdown",
   "metadata": {},
   "source": [
    "## Data loading"
   ]
  },
  {
   "cell_type": "code",
   "execution_count": null,
   "metadata": {},
   "outputs": [],
   "source": [
    "path_stm = Path('./full-pixel_psi_amsterdam_tsx_asc_t116_v4_sparse.csv')\n",
    "stmat = stmtools.from_csv(path_stm, blocksize=10e6)\n",
    "stmat = stmat.chunk({\"space\": 20000, \"time\": -1}) # Chunk 10000 space, no chunk in time\n",
    "stmat"
   ]
  },
  {
   "cell_type": "code",
   "execution_count": null,
   "metadata": {},
   "outputs": [],
   "source": [
    "dask.visualize(stmat['lat'], filename='lat.png')"
   ]
  },
  {
   "cell_type": "code",
   "execution_count": null,
   "metadata": {},
   "outputs": [],
   "source": [
    "# Save to zarr\n",
    "stmat.to_zarr('./full-pixel_psi_amsterdam_tsx_asc_t116_v4_sparse.zarr', mode='w')"
   ]
  },
  {
   "cell_type": "markdown",
   "metadata": {},
   "source": [
    "## Exercise: Performance comparison between csv vs zarr (15 mins)\n",
    "\n",
    "Read from the csv file and the Zarr file separately, access the `deformation` variable and load it into the memory using the `.compute()` function.\n",
    "\n",
    "Use the magic command `%%time` to measure the time, compare the performance between the two file formats."
   ]
  },
  {
   "cell_type": "code",
   "execution_count": null,
   "metadata": {},
   "outputs": [],
   "source": [
    "%%timeit\n",
    "path_csv = Path('./full-pixel_psi_amsterdam_tsx_asc_t116_v4_sparse.csv')\n",
    "stmat1 = stmtools.from_csv(path_csv, blocksize=10e6)\n",
    "stmat1 = stmat.chunk({\"space\": 20000, \"time\": -1})\n",
    "defo_1 = stmat['deformation'].compute()"
   ]
  },
  {
   "cell_type": "code",
   "execution_count": null,
   "metadata": {},
   "outputs": [],
   "source": [
    "%%timeit\n",
    "path_zarr = Path('./full-pixel_psi_amsterdam_tsx_asc_t116_v4_sparse.zarr')\n",
    "stmat2 = xr.open_zarr(path_zarr)\n",
    "defo_2 = stmat2['deformation'].compute()"
   ]
  },
  {
   "cell_type": "code",
   "execution_count": null,
   "metadata": {},
   "outputs": [],
   "source": [
    "path_zarr = Path('./full-pixel_psi_amsterdam_tsx_asc_t116_v4_sparse.zarr')\n",
    "stmat = xr.open_zarr(path_zarr)"
   ]
  },
  {
   "cell_type": "markdown",
   "metadata": {},
   "source": [
    "## Subset by polygon and Enrich the STM"
   ]
  },
  {
   "cell_type": "code",
   "execution_count": null,
   "metadata": {},
   "outputs": [],
   "source": [
    "# Path to the BRP polygon of NL\n",
    "path_polygon = Path('bag_light_AMS_WGS84.gpkg')"
   ]
  },
  {
   "cell_type": "code",
   "execution_count": null,
   "metadata": {},
   "outputs": [],
   "source": [
    "# AoI boundary\n",
    "min_lon = stmat['lon'].values.min()\n",
    "max_lon = stmat['lon'].values.max()\n",
    "min_lat = stmat['lat'].values.min()\n",
    "max_lat = stmat['lat'].values.max()\n",
    "bbox = (min_lon, min_lat, max_lon, max_lat)\n",
    "bbox"
   ]
  },
  {
   "cell_type": "code",
   "execution_count": null,
   "metadata": {},
   "outputs": [],
   "source": [
    "gdf = gpd.read_file(path_polygon, bbox=bbox)\n",
    "gdf.plot()"
   ]
  },
  {
   "cell_type": "code",
   "execution_count": null,
   "metadata": {},
   "outputs": [],
   "source": [
    "stmat_subset = stmat.stm.subset(method='polygon', polygon=path_polygon)\n",
    "stmat_subset"
   ]
  },
  {
   "cell_type": "code",
   "execution_count": null,
   "metadata": {},
   "outputs": [],
   "source": [
    "fields_to_query = ['bouwjaar']\n",
    "stmat_enriched = stmat_subset.stm.enrich_from_polygon(path_polygon, fields_to_query)\n",
    "stmat_enriched"
   ]
  },
  {
   "cell_type": "code",
   "execution_count": null,
   "metadata": {},
   "outputs": [],
   "source": [
    "# scatter plot of the bouwjaar\n",
    "data = stmat_enriched['bouwjaar'].compute()\n",
    "data"
   ]
  },
  {
   "cell_type": "code",
   "execution_count": null,
   "metadata": {},
   "outputs": [],
   "source": [
    "# Visualize results\n",
    "from matplotlib import pyplot as plt\n",
    "import matplotlib.cm as cm\n",
    "\n",
    "colormap = cm.jet\n",
    "\n",
    "plt.title(\"Construction year, PS\")\n",
    "plt.scatter(data['lon'], data['lat'], c=data, s=0.004, cmap=colormap)\n",
    "plt.clim([1900, 2023])\n",
    "plt.xlim([4.84, 4.96])\n",
    "plt.ylim([52.34, 52.39])\n",
    "plt.colorbar()"
   ]
  },
  {
   "cell_type": "markdown",
   "metadata": {},
   "source": [
    "## Use `map_block` functions"
   ]
  },
  {
   "cell_type": "code",
   "execution_count": null,
   "metadata": {},
   "outputs": [],
   "source": [
    "xr.map_blocks?"
   ]
  },
  {
   "cell_type": "code",
   "execution_count": null,
   "metadata": {},
   "outputs": [],
   "source": [
    "# define the function to get deformation percentile per point\n",
    "def get_percentile(stm, q=0.95):\n",
    "    stm[f'pnt_defo_perc{q}'] = stm['deformation'].quantile(q, dim='time')\n",
    "    stm = stm.drop_vars('quantile')\n",
    "    return stm"
   ]
  },
  {
   "cell_type": "code",
   "execution_count": null,
   "metadata": {},
   "outputs": [],
   "source": [
    "# make a small crop\n",
    "stmat_subset = stmat.isel(space=slice(0, 1000))\n",
    "stmat_subset"
   ]
  },
  {
   "cell_type": "code",
   "execution_count": null,
   "metadata": {},
   "outputs": [],
   "source": [
    "# test function of the small crop\n",
    "stmat_subset_perc = get_percentile(stmat_subset)\n",
    "stmat_subset_perc"
   ]
  },
  {
   "cell_type": "code",
   "execution_count": null,
   "metadata": {},
   "outputs": [],
   "source": [
    "# Make a template stmat, add the `'pnt_defo_perc0.95'` variable\n",
    "stmat_template = stmat.copy()\n",
    "stmat_template['pnt_defo_perc0.95'] = stmat['pnt_line']*0\n",
    "stmat_template"
   ]
  },
  {
   "cell_type": "code",
   "execution_count": null,
   "metadata": {},
   "outputs": [],
   "source": [
    "stmat_perc = stmat.map_blocks(get_percentile, kwargs={\"q\":0.95}, template=stmat_template)\n",
    "stmat_perc"
   ]
  },
  {
   "cell_type": "code",
   "execution_count": null,
   "metadata": {},
   "outputs": [],
   "source": [
    "stmat_perc['pnt_defo_perc0.95'].compute()"
   ]
  }
 ],
 "metadata": {
  "kernelspec": {
   "display_name": "Python 3 (ipykernel)",
   "language": "python",
   "name": "python3"
  },
  "language_info": {
   "codemirror_mode": {
    "name": "ipython",
    "version": 3
   },
   "file_extension": ".py",
   "mimetype": "text/x-python",
   "name": "python",
   "nbconvert_exporter": "python",
   "pygments_lexer": "ipython3",
   "version": "3.10.14"
  },
  "vscode": {
   "interpreter": {
    "hash": "9e01c548609991304941095191e3797ee41d91e6eab5b724963abbb6a743fe42"
   }
  }
 },
 "nbformat": 4,
 "nbformat_minor": 4
}
